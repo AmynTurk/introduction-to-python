{
  "nbformat": 4,
  "nbformat_minor": 0,
  "metadata": {
    "colab": {
      "name": "HW1.ipynb",
      "provenance": [],
      "collapsed_sections": [],
      "authorship_tag": "ABX9TyOn0ILLlAey0QcNfaCsIVCr",
      "include_colab_link": true
    },
    "kernelspec": {
      "name": "python3",
      "display_name": "Python 3"
    }
  },
  "cells": [
    {
      "cell_type": "markdown",
      "metadata": {
        "id": "view-in-github",
        "colab_type": "text"
      },
      "source": [
        "<a href=\"https://colab.research.google.com/github/AmynTurk/introduction-to-python/blob/newBranch11/HW1.ipynb\" target=\"_parent\"><img src=\"https://colab.research.google.com/assets/colab-badge.svg\" alt=\"Open In Colab\"/></a>"
      ]
    },
    {
      "cell_type": "code",
      "metadata": {
        "colab": {
          "base_uri": "https://localhost:8080/"
        },
        "id": "1DlkPa-uH-Vj",
        "outputId": "1b80fc62-7a90-4c24-91c8-d9c3d4875302"
      },
      "source": [
        "import random as rnd\r\n",
        "\r\n",
        "def sayiUydur():\r\n",
        "  return rnd.randint(0, 9)\r\n",
        "\r\n",
        "def listeOlustur():\r\n",
        "  return [sayiUydur(),sayiUydur(),sayiUydur()]\r\n",
        "\r\n",
        "def matrisOlustur():\r\n",
        "  liste1=listeOlustur()\r\n",
        "  liste2=listeOlustur()\r\n",
        "  liste3=listeOlustur()\r\n",
        "\r\n",
        "  matris=[liste1,liste2,liste3]\r\n",
        "\r\n",
        "  for i in matris:\r\n",
        "    for j in i:\r\n",
        "      print(j,end=\" \")\r\n",
        "    print(\"\\n\")\r\n",
        "\r\n",
        "\r\n",
        "matrisOlustur()"
      ],
      "execution_count": null,
      "outputs": [
        {
          "output_type": "stream",
          "text": [
            "3 7 7 \n",
            "\n",
            "9 6 6 \n",
            "\n",
            "2 0 6 \n",
            "\n"
          ],
          "name": "stdout"
        }
      ]
    }
  ]
}