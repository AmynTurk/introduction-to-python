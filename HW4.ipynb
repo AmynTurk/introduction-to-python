{
  "nbformat": 4,
  "nbformat_minor": 0,
  "metadata": {
    "colab": {
      "name": "HW4.ipynb",
      "provenance": [],
      "collapsed_sections": [],
      "authorship_tag": "ABX9TyNzBXHqh/4MnQ5NcAJjrTp8",
      "include_colab_link": true
    },
    "kernelspec": {
      "name": "python3",
      "display_name": "Python 3"
    }
  },
  "cells": [
    {
      "cell_type": "markdown",
      "metadata": {
        "id": "view-in-github",
        "colab_type": "text"
      },
      "source": [
        "<a href=\"https://colab.research.google.com/github/AmynTurk/introduction-to-python/blob/newBranch11/HW4.ipynb\" target=\"_parent\"><img src=\"https://colab.research.google.com/assets/colab-badge.svg\" alt=\"Open In Colab\"/></a>"
      ]
    },
    {
      "cell_type": "code",
      "metadata": {
        "colab": {
          "base_uri": "https://localhost:8080/",
          "height": 128
        },
        "id": "KnRbZi_MmGk5",
        "outputId": "6ae177cc-8a54-4c95-daf3-c0eadb4ad959"
      },
      "source": [
        "#kütüphaneler\r\n",
        "import random as rnd\r\n",
        "\r\n",
        "\r\n",
        "#değişkenler\r\n",
        "sorulacakKelimeler=[\"kalem\",\"kitap\",\"defter\",\"mürekkep\",\"hokka\"]\r\n",
        "\r\n",
        "#fonksiyonlar\r\n",
        "def cikis(girdiDegeri):\r\n",
        "  if girdiDegeri==\"çık\":\r\n",
        "    return True\r\n",
        "  else:\r\n",
        "    return False \r\n",
        "\r\n",
        "\r\n",
        "\r\n",
        "\r\n",
        "#CLASS.LAR\r\n",
        "#parent class\r\n",
        "class Kelime:\r\n",
        "  def __init__(self,arananKelime):\r\n",
        "    self.arananKelime=arananKelime\r\n",
        "    self.kazanmaGoruntusu=\"  \\O/ \\n   | \\n _/_\\______ \\n|          |\\n|__       / \\ \"\r\n",
        "    self.hata0Goruntusu=\"   ___\\n  |   | \\n      | \\n      | \\n      | \\n     / \\ \"\r\n",
        "    self.hata1Goruntusu=\"   ___\\n  |   | \\n  O   | \\n      | \\n      | \\n     / \\ \"\r\n",
        "    self.hata2Goruntusu=\"   ___\\n  |   | \\n  O   | \\n  |   | \\n      | \\n     / \\ \"\r\n",
        "    self.hata3Goruntusu=\"   ___\\n  |   | \\n  O   | \\n /|\\  | \\n      | \\n     / \\ \"\r\n",
        "    self.gameOverGoruntusu=\"   ___\\n  |   | \\n  O   | \\n /|\\  | \\n / \\  | \\n     / \\ \"\r\n",
        "    self.hatalar=[self.hata0Goruntusu,self.hata1Goruntusu,self.hata2Goruntusu,self.hata3Goruntusu,self.gameOverGoruntusu]\r\n",
        "\r\n",
        "#child class\r\n",
        "class SorulacakKelime(Kelime):\r\n",
        "  def __init__(self,arananKelime):\r\n",
        "    super().__init__(arananKelime)\r\n",
        "    self.hataSayisi=-1\r\n",
        "  def kelimeyiSifrele(self,kelime):\r\n",
        "    sifre=\"\"\r\n",
        "\r\n",
        "    sifre=sifre+\"_\"*len(kelime)\r\n",
        "    return sifre\r\n",
        "  def girdiKontrolu(self,sifre,girdi,kelime):\r\n",
        "    hataSayaci=True\r\n",
        "    indexSayaci=-1\r\n",
        "\r\n",
        "    for i in kelime:\r\n",
        "      indexSayaci=indexSayaci+1\r\n",
        "\r\n",
        "      if girdi==i:\r\n",
        "        sifre.index(indexSayaci)=i\r\n",
        "        hataSayaci=False\r\n",
        "    \r\n",
        "    if hataSayaci:\r\n",
        "      self.hataSayisi=self.hataSayisi+1\r\n",
        "    if self.hataSayisi > -1 and self.hataSayisi<5:\r\n",
        "      print(\"\\n\")\r\n",
        "      print(self.hatalar[self.hataSayisi])\r\n",
        "    return sifre\r\n",
        "\r\n",
        "\r\n",
        "\r\n",
        "\r\n",
        "def main():\r\n",
        "  rnd.shuffle(sorulacakKelimeler)\r\n",
        "\r\n",
        "  print(\"  ^^^^^^  Adam asmaca oyunumuza hoşgeldiniz!  ^^^^^^^ \\n\")\r\n",
        "  for i in sorulacakKelimeler:\r\n",
        "    sifre=\"\"\r\n",
        "    sifre2=\"\"\r\n",
        "\r\n",
        "    kelime=SorulacakKelime(i)\r\n",
        "    \r\n",
        "    print(kelime.arananKelime)\r\n",
        "    \r\n",
        "    sifre=kelime.kelimeyiSifrele(kelime.arananKelime)\r\n",
        "    sifre2=sifre\r\n",
        "    \r\n",
        "    while True:\r\n",
        "      girdi=input(\"Lütfen uygun olduğunu düşündüğünüz sadece bir harfi giriniz. \\n Çıkmak için 'çık' girebilirsiniz... :\\n\")\r\n",
        "      if cikis(girdi):\r\n",
        "        break\r\n",
        "      else:\r\n",
        "        sifre2=kelime.girdiKontrolu(sifre2,girdi,kelime.arananKelime)\r\n",
        "        print(\"\\n\")\r\n",
        "        for i in sifre:\r\n",
        "          print(i,end=\"_ \")\r\n",
        "      if kelime.hataSayisi==4:\r\n",
        "        print(\"\\n KAYBETTİNİZ!!!\")\r\n",
        "        break\r\n",
        "    girdi=input(\"\\nOyundan çıkmak için 'çık' girebilirsiniz... Tekrar oynamak için bunun haricinde herhangi bir giriş yapın :\")\r\n",
        "    if cikis(girdi):\r\n",
        "      break\r\n",
        "  print(\"\\n\\n...  Görüşmek Üzere  ...\")\r\n",
        "\r\n",
        "main()"
      ],
      "execution_count": 142,
      "outputs": [
        {
          "output_type": "error",
          "ename": "SyntaxError",
          "evalue": "ignored",
          "traceback": [
            "\u001b[0;36m  File \u001b[0;32m\"<ipython-input-142-a48c12707c05>\"\u001b[0;36m, line \u001b[0;32m49\u001b[0m\n\u001b[0;31m    sifre.index(indexSayaci)=i\u001b[0m\n\u001b[0m    ^\u001b[0m\n\u001b[0;31mSyntaxError\u001b[0m\u001b[0;31m:\u001b[0m can't assign to function call\n"
          ]
        }
      ]
    },
    {
      "cell_type": "code",
      "metadata": {
        "id": "OT1AnyxLQKBy"
      },
      "source": [
        ""
      ],
      "execution_count": null,
      "outputs": []
    }
  ]
}