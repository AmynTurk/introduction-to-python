{
  "nbformat": 4,
  "nbformat_minor": 0,
  "metadata": {
    "colab": {
      "name": "HW3.ipynb",
      "provenance": [],
      "collapsed_sections": [],
      "authorship_tag": "ABX9TyPjdN7E3N3pROi7MIZJL0DI",
      "include_colab_link": true
    },
    "kernelspec": {
      "name": "python3",
      "display_name": "Python 3"
    }
  },
  "cells": [
    {
      "cell_type": "markdown",
      "metadata": {
        "id": "view-in-github",
        "colab_type": "text"
      },
      "source": [
        "<a href=\"https://colab.research.google.com/github/AmynTurk/introduction-to-python/blob/newBranch11/HW3.ipynb\" target=\"_parent\"><img src=\"https://colab.research.google.com/assets/colab-badge.svg\" alt=\"Open In Colab\"/></a>"
      ]
    },
    {
      "cell_type": "code",
      "metadata": {
        "colab": {
          "base_uri": "https://localhost:8080/"
        },
        "id": "tmNEOMYqTKM-",
        "outputId": "389d2410-b9ef-4133-c670-7f0c5bf28a43"
      },
      "source": [
        "birinciGrupAsalSayilar=[]\r\n",
        "ikinciGrupAsalSayilar=[]\r\n",
        "\r\n",
        "def sayilariGoster(ilkSayi,sonSayi):\r\n",
        "  for i in range(ilkSayi,sonSayi+1):\r\n",
        "    if asallikKontrolEt(i):\r\n",
        "      print(i, end=\", \")\r\n",
        "\r\n",
        "\r\n",
        "\r\n",
        "def prime_first():\r\n",
        "  print(\"BİRİNCİ FONKSİYON ÇALIŞIYOR... \\n 0 ile 500 arasındaki asal sayılar aşağıdadır:\")\r\n",
        "  sayilariGoster(2,500)\r\n",
        "\r\n",
        "def prime_second():\r\n",
        "  print(\"\\n\\nİKİNCİ FONKSİYON ÇALIŞIYOR... \\n 500 ile 1000 arasındaki asal sayılar aşağıdadır:\")\r\n",
        "  sayilariGoster(500,1000)\r\n",
        "\r\n",
        "\r\n",
        "def asallikKontrolEt(sayi):\r\n",
        "  asalMI=True\r\n",
        "\r\n",
        "  orijinalSayi=sayi\r\n",
        "\r\n",
        "  while sayi>2:\r\n",
        "    sayi=sayi-1\r\n",
        "\r\n",
        "    if orijinalSayi%sayi==0:\r\n",
        "      asalMI=False\r\n",
        "      break\r\n",
        "  \r\n",
        "  return asalMI\r\n",
        "\r\n",
        "\r\n",
        "\r\n",
        "def main():\r\n",
        "  prime_first()\r\n",
        "  prime_second()\r\n",
        "\r\n",
        "main()    "
      ],
      "execution_count": null,
      "outputs": [
        {
          "output_type": "stream",
          "text": [
            "BİRİNCİ FONKSİYON ÇALIŞIYOR... \n",
            " 0 ile 500 arasındaki asal sayılar aşağıdadır:\n",
            "2, 3, 5, 7, 11, 13, 17, 19, 23, 29, 31, 37, 41, 43, 47, 53, 59, 61, 67, 71, 73, 79, 83, 89, 97, 101, 103, 107, 109, 113, 127, 131, 137, 139, 149, 151, 157, 163, 167, 173, 179, 181, 191, 193, 197, 199, 211, 223, 227, 229, 233, 239, 241, 251, 257, 263, 269, 271, 277, 281, 283, 293, 307, 311, 313, 317, 331, 337, 347, 349, 353, 359, 367, 373, 379, 383, 389, 397, 401, 409, 419, 421, 431, 433, 439, 443, 449, 457, 461, 463, 467, 479, 487, 491, 499, \n",
            "\n",
            "İKİNCİ FONKSİYON ÇALIŞIYOR... \n",
            " 500 ile 1000 arasındaki asal sayılar aşağıdadır:\n",
            "503, 509, 521, 523, 541, 547, 557, 563, 569, 571, 577, 587, 593, 599, 601, 607, 613, 617, 619, 631, 641, 643, 647, 653, 659, 661, 673, 677, 683, 691, 701, 709, 719, 727, 733, 739, 743, 751, 757, 761, 769, 773, 787, 797, 809, 811, 821, 823, 827, 829, 839, 853, 857, 859, 863, 877, 881, 883, 887, 907, 911, 919, 929, 937, 941, 947, 953, 967, 971, 977, 983, 991, 997, "
          ],
          "name": "stdout"
        }
      ]
    }
  ]
}